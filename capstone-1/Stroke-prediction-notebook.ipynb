{
 "cells": [
  {
   "cell_type": "code",
   "execution_count": 1,
   "id": "80321764",
   "metadata": {},
   "outputs": [],
   "source": [
    "import pandas as pd\n",
    "import numpy as np\n",
    "\n",
    "import seaborn as sns\n",
    "from sklearn.preprocessing import LabelEncoder\n",
    "\n",
    "import matplotlib.pyplot as plt\n",
    "%matplotlib inline"
   ]
  },
  {
   "cell_type": "code",
   "execution_count": 2,
   "id": "7c0b6332",
   "metadata": {},
   "outputs": [],
   "source": [
    "from sklearn.model_selection import train_test_split\n",
    "from sklearn.linear_model import LinearRegression\n",
    "from sklearn.tree import DecisionTreeClassifier\n",
    "from sklearn.linear_model import LogisticRegression\n",
    "from sklearn.feature_selection import RFE\n",
    "\n",
    "from sklearn.metrics import accuracy_score, confusion_matrix, classification_report, roc_auc_score"
   ]
  },
  {
   "cell_type": "code",
   "execution_count": 4,
   "id": "618d6f57",
   "metadata": {},
   "outputs": [],
   "source": [
    "import pickle"
   ]
  },
  {
   "cell_type": "code",
   "execution_count": 5,
   "id": "51419f97",
   "metadata": {},
   "outputs": [],
   "source": [
    "stroke_df = pd.read_csv('data/stroke-data.csv')"
   ]
  },
  {
   "cell_type": "code",
   "execution_count": 6,
   "id": "74fa3efc",
   "metadata": {},
   "outputs": [
    {
     "name": "stdout",
     "output_type": "stream",
     "text": [
      "      id  gender   age  hypertension  heart_disease ever_married  \\\n",
      "0   9046    Male  67.0             0              1          Yes   \n",
      "1  51676  Female  61.0             0              0          Yes   \n",
      "2  31112    Male  80.0             0              1          Yes   \n",
      "3  60182  Female  49.0             0              0          Yes   \n",
      "4   1665  Female  79.0             1              0          Yes   \n",
      "\n",
      "       work_type Residence_type  avg_glucose_level   bmi   smoking_status  \\\n",
      "0        Private          Urban             228.69  36.6  formerly smoked   \n",
      "1  Self-employed          Rural             202.21   NaN     never smoked   \n",
      "2        Private          Rural             105.92  32.5     never smoked   \n",
      "3        Private          Urban             171.23  34.4           smokes   \n",
      "4  Self-employed          Rural             174.12  24.0     never smoked   \n",
      "\n",
      "   stroke  \n",
      "0       1  \n",
      "1       1  \n",
      "2       1  \n",
      "3       1  \n",
      "4       1  \n"
     ]
    }
   ],
   "source": [
    "print(stroke_df.head())"
   ]
  },
  {
   "cell_type": "code",
   "execution_count": 7,
   "id": "fe633cc7",
   "metadata": {},
   "outputs": [
    {
     "name": "stdout",
     "output_type": "stream",
     "text": [
      "id                   False\n",
      "gender               False\n",
      "age                  False\n",
      "hypertension         False\n",
      "heart_disease        False\n",
      "ever_married         False\n",
      "work_type            False\n",
      "Residence_type       False\n",
      "avg_glucose_level    False\n",
      "bmi                   True\n",
      "smoking_status       False\n",
      "stroke               False\n",
      "dtype: bool\n"
     ]
    }
   ],
   "source": [
    "print(stroke_df.isnull().any())"
   ]
  },
  {
   "cell_type": "code",
   "execution_count": 8,
   "id": "37fc8ad2",
   "metadata": {},
   "outputs": [
    {
     "name": "stdout",
     "output_type": "stream",
     "text": [
      "28.893236911794673\n"
     ]
    }
   ],
   "source": [
    "print(stroke_df['bmi'].mean())"
   ]
  },
  {
   "cell_type": "code",
   "execution_count": 9,
   "id": "e9d7d68c",
   "metadata": {},
   "outputs": [],
   "source": [
    "stroke_df['bmi'].fillna(stroke_df['bmi'].mean(), inplace=True)\n"
   ]
  },
  {
   "cell_type": "code",
   "execution_count": 10,
   "id": "ceadeef5",
   "metadata": {},
   "outputs": [
    {
     "name": "stdout",
     "output_type": "stream",
     "text": [
      "id                   False\n",
      "gender               False\n",
      "age                  False\n",
      "hypertension         False\n",
      "heart_disease        False\n",
      "ever_married         False\n",
      "work_type            False\n",
      "Residence_type       False\n",
      "avg_glucose_level    False\n",
      "bmi                  False\n",
      "smoking_status       False\n",
      "stroke               False\n",
      "dtype: bool\n"
     ]
    }
   ],
   "source": [
    "print(stroke_df.isnull().any())"
   ]
  },
  {
   "cell_type": "code",
   "execution_count": 11,
   "id": "1063e64b",
   "metadata": {},
   "outputs": [
    {
     "name": "stdout",
     "output_type": "stream",
     "text": [
      "['Private' 'Self-employed' 'Govt_job' 'children' 'Never_worked']\n"
     ]
    }
   ],
   "source": [
    "print(stroke_df.work_type.unique())"
   ]
  },
  {
   "cell_type": "code",
   "execution_count": 12,
   "id": "298097d2",
   "metadata": {},
   "outputs": [
    {
     "name": "stdout",
     "output_type": "stream",
     "text": [
      "      id  gender   age  hypertension  heart_disease ever_married  \\\n",
      "0   9046    Male  67.0             0              1          Yes   \n",
      "1  51676  Female  61.0             0              0          Yes   \n",
      "2  31112    Male  80.0             0              1          Yes   \n",
      "3  60182  Female  49.0             0              0          Yes   \n",
      "4   1665  Female  79.0             1              0          Yes   \n",
      "\n",
      "       work_type Residence_type  avg_glucose_level        bmi  \\\n",
      "0        Private          Urban             228.69  36.600000   \n",
      "1  Self-employed          Rural             202.21  28.893237   \n",
      "2        Private          Rural             105.92  32.500000   \n",
      "3        Private          Urban             171.23  34.400000   \n",
      "4  Self-employed          Rural             174.12  24.000000   \n",
      "\n",
      "    smoking_status  stroke  \n",
      "0  formerly smoked       1  \n",
      "1     never smoked       1  \n",
      "2     never smoked       1  \n",
      "3           smokes       1  \n",
      "4     never smoked       1  \n"
     ]
    }
   ],
   "source": [
    "print(stroke_df.head())"
   ]
  },
  {
   "cell_type": "code",
   "execution_count": 13,
   "id": "b64cc245",
   "metadata": {},
   "outputs": [],
   "source": [
    "stroke_df.drop(['id'], axis=1, inplace=True)"
   ]
  },
  {
   "cell_type": "code",
   "execution_count": 14,
   "id": "ade5af8a",
   "metadata": {},
   "outputs": [
    {
     "data": {
      "image/png": "[encoded data removed]",
      "text/plain": [
       "<Figure size 576x432 with 2 Axes>"
      ]
     },
     "metadata": {
      "needs_background": "light"
     },
     "output_type": "display_data"
    }
   ],
   "source": [
    "plt.figure(figsize=(8,6))\n",
    "sns.heatmap(stroke_df.corr(), annot=True,\n",
    "           vmax=1.0, linecolor='white',\n",
    "            annot_kws={'fontsize':8 })\n",
    "plt.show()"
   ]
  },
  {
   "cell_type": "code",
   "execution_count": 15,
   "id": "54279e6e",
   "metadata": {},
   "outputs": [
    {
     "data": {
      "image/png": "[encoded data removed]",
      "text/plain": [
       "<Figure size 432x288 with 1 Axes>"
      ]
     },
     "metadata": {
      "needs_background": "light"
     },
     "output_type": "display_data"
    }
   ],
   "source": [
    "sns.countplot(y='gender', hue='stroke', data=stroke_df)\n",
    "plt.show()\n",
    "    \n",
    "# sns.scatterplot(stroke_df, x='age', y='stroke', hue='gender')"
   ]
  },
  {
   "cell_type": "code",
   "execution_count": 16,
   "id": "a95ca1d8",
   "metadata": {},
   "outputs": [
    {
     "data": {
      "image/png": "[encoded data removed]",
      "text/plain": [
       "<Figure size 432x288 with 1 Axes>"
      ]
     },
     "metadata": {
      "needs_background": "light"
     },
     "output_type": "display_data"
    }
   ],
   "source": [
    "fig, ax = plt.subplots()\n",
    "\n",
    "sns.kdeplot(stroke_df[stroke_df['stroke']==1][\"age\"], shade=True, color=\"red\", label=\"Suffered\", ax=ax)\n",
    "sns.kdeplot(stroke_df[stroke_df['stroke']==0][\"age\"], shade=True, color=\"green\", label=\"Not Suffered\", ax=ax)\n",
    "\n",
    "ax.set_xlabel(\"Age\")\n",
    "ax.set_ylabel(\"Density\")\n",
    "\n",
    "fig.suptitle(\"Age vs. Stroke possibility\");"
   ]
  },
  {
   "cell_type": "code",
   "execution_count": 17,
   "id": "d60fc020",
   "metadata": {},
   "outputs": [
    {
     "data": {
      "image/png": "[encoded data removed]",
      "text/plain": [
       "<Figure size 432x288 with 1 Axes>"
      ]
     },
     "metadata": {
      "needs_background": "light"
     },
     "output_type": "display_data"
    }
   ],
   "source": [
    "sns.countplot(y='Residence_type', hue='stroke', data=stroke_df)\n",
    "plt.show()"
   ]
  },
  {
   "cell_type": "code",
   "execution_count": 18,
   "id": "a3e74d59",
   "metadata": {},
   "outputs": [
    {
     "data": {
      "image/png": "[encoded data removed]",
      "text/plain": [
       "<Figure size 432x288 with 1 Axes>"
      ]
     },
     "metadata": {
      "needs_background": "light"
     },
     "output_type": "display_data"
    }
   ],
   "source": [
    "sns.boxplot(x='hypertension', y='age', hue='stroke', data=stroke_df)\n",
    "plt.show()"
   ]
  },
  {
   "cell_type": "code",
   "execution_count": 19,
   "id": "421c5fce",
   "metadata": {},
   "outputs": [
    {
     "data": {
      "image/png": "[encoded data removed]",
      "text/plain": [
       "<Figure size 432x288 with 1 Axes>"
      ]
     },
     "metadata": {
      "needs_background": "light"
     },
     "output_type": "display_data"
    }
   ],
   "source": [
    "sns.boxplot(x='heart_disease', y='age', hue='stroke', data=stroke_df)\n",
    "plt.show()"
   ]
  },
  {
   "cell_type": "code",
   "execution_count": 20,
   "id": "741e1ebd",
   "metadata": {},
   "outputs": [
    {
     "data": {
      "image/png": "[encoded data removed]",
      "text/plain": [
       "<Figure size 432x288 with 1 Axes>"
      ]
     },
     "metadata": {
      "needs_background": "light"
     },
     "output_type": "display_data"
    }
   ],
   "source": [
    "sns.countplot(x='ever_married', hue='stroke', data=stroke_df)\n",
    "\n",
    "# sns.boxplot(x='ever_married', y='age', hue='stroke', data=stroke_df)\n",
    "plt.show()"
   ]
  },
  {
   "cell_type": "code",
   "execution_count": 21,
   "id": "002ba84a",
   "metadata": {},
   "outputs": [],
   "source": [
    "cat_cols = ['gender', 'ever_married','work_type','Residence_type','smoking_status']"
   ]
  },
  {
   "cell_type": "code",
   "execution_count": 22,
   "id": "66a8e69a",
   "metadata": {},
   "outputs": [
    {
     "data": {
      "text/plain": [
       "gender            3\n",
       "ever_married      2\n",
       "work_type         5\n",
       "Residence_type    2\n",
       "smoking_status    4\n",
       "dtype: int64"
      ]
     },
     "execution_count": 22,
     "metadata": {},
     "output_type": "execute_result"
    }
   ],
   "source": [
    "stroke_df[cat_cols].nunique()"
   ]
  },
  {
   "cell_type": "code",
   "execution_count": 23,
   "id": "948c4f24",
   "metadata": {},
   "outputs": [],
   "source": [
    "df_cat_encoded = pd.get_dummies(stroke_df[cat_cols], drop_first=True)"
   ]
  },
  {
   "cell_type": "code",
   "execution_count": 24,
   "id": "5b689c24",
   "metadata": {},
   "outputs": [
    {
     "name": "stdout",
     "output_type": "stream",
     "text": [
      "      gender_Male  gender_Other  ever_married_Yes  work_type_Never_worked  \\\n",
      "0               1             0                 1                       0   \n",
      "1               0             0                 1                       0   \n",
      "2               1             0                 1                       0   \n",
      "3               0             0                 1                       0   \n",
      "4               0             0                 1                       0   \n",
      "...           ...           ...               ...                     ...   \n",
      "5105            0             0                 1                       0   \n",
      "5106            0             0                 1                       0   \n",
      "5107            0             0                 1                       0   \n",
      "5108            1             0                 1                       0   \n",
      "5109            0             0                 1                       0   \n",
      "\n",
      "      work_type_Private  work_type_Self-employed  work_type_children  \\\n",
      "0                     1                        0                   0   \n",
      "1                     0                        1                   0   \n",
      "2                     1                        0                   0   \n",
      "3                     1                        0                   0   \n",
      "4                     0                        1                   0   \n",
      "...                 ...                      ...                 ...   \n",
      "5105                  1                        0                   0   \n",
      "5106                  0                        1                   0   \n",
      "5107                  0                        1                   0   \n",
      "5108                  1                        0                   0   \n",
      "5109                  0                        0                   0   \n",
      "\n",
      "      Residence_type_Urban  smoking_status_formerly smoked  \\\n",
      "0                        1                               1   \n",
      "1                        0                               0   \n",
      "2                        0                               0   \n",
      "3                        1                               0   \n",
      "4                        0                               0   \n",
      "...                    ...                             ...   \n",
      "5105                     1                               0   \n",
      "5106                     1                               0   \n",
      "5107                     0                               0   \n",
      "5108                     0                               1   \n",
      "5109                     1                               0   \n",
      "\n",
      "      smoking_status_never smoked  smoking_status_smokes  \n",
      "0                               0                      0  \n",
      "1                               1                      0  \n",
      "2                               1                      0  \n",
      "3                               0                      1  \n",
      "4                               1                      0  \n",
      "...                           ...                    ...  \n",
      "5105                            1                      0  \n",
      "5106                            1                      0  \n",
      "5107                            1                      0  \n",
      "5108                            0                      0  \n",
      "5109                            0                      0  \n",
      "\n",
      "[5110 rows x 11 columns]\n"
     ]
    }
   ],
   "source": [
    "print(df_cat_encoded)"
   ]
  },
  {
   "cell_type": "code",
   "execution_count": 25,
   "id": "49a10a26",
   "metadata": {},
   "outputs": [],
   "source": [
    "numeric_fields = list(set(stroke_df.columns) - set(cat_cols))"
   ]
  },
  {
   "cell_type": "code",
   "execution_count": 26,
   "id": "2b3fe1b4",
   "metadata": {},
   "outputs": [
    {
     "name": "stdout",
     "output_type": "stream",
     "text": [
      "['hypertension', 'heart_disease', 'bmi', 'age', 'stroke', 'avg_glucose_level']\n"
     ]
    }
   ],
   "source": [
    "print(numeric_fields)"
   ]
  },
  {
   "cell_type": "code",
   "execution_count": 27,
   "id": "4393c0f2",
   "metadata": {},
   "outputs": [],
   "source": [
    "encoded_stroke_df = pd.concat([stroke_df[numeric_fields],df_cat_encoded], axis = 1)"
   ]
  },
  {
   "cell_type": "code",
   "execution_count": 28,
   "id": "e12148df",
   "metadata": {},
   "outputs": [
    {
     "name": "stdout",
     "output_type": "stream",
     "text": [
      "['gender', 'ever_married', 'work_type', 'Residence_type', 'smoking_status']\n"
     ]
    }
   ],
   "source": [
    "print(cat_cols)"
   ]
  },
  {
   "cell_type": "code",
   "execution_count": 29,
   "id": "3527fb78",
   "metadata": {},
   "outputs": [
    {
     "name": "stdout",
     "output_type": "stream",
     "text": [
      "   hypertension  heart_disease        bmi   age  stroke  avg_glucose_level  \\\n",
      "0             0              1  36.600000  67.0       1             228.69   \n",
      "1             0              0  28.893237  61.0       1             202.21   \n",
      "2             0              1  32.500000  80.0       1             105.92   \n",
      "3             0              0  34.400000  49.0       1             171.23   \n",
      "4             1              0  24.000000  79.0       1             174.12   \n",
      "\n",
      "   gender_Male  gender_Other  ever_married_Yes  work_type_Never_worked  \\\n",
      "0            1             0                 1                       0   \n",
      "1            0             0                 1                       0   \n",
      "2            1             0                 1                       0   \n",
      "3            0             0                 1                       0   \n",
      "4            0             0                 1                       0   \n",
      "\n",
      "   work_type_Private  work_type_Self-employed  work_type_children  \\\n",
      "0                  1                        0                   0   \n",
      "1                  0                        1                   0   \n",
      "2                  1                        0                   0   \n",
      "3                  1                        0                   0   \n",
      "4                  0                        1                   0   \n",
      "\n",
      "   Residence_type_Urban  smoking_status_formerly smoked  \\\n",
      "0                     1                               1   \n",
      "1                     0                               0   \n",
      "2                     0                               0   \n",
      "3                     1                               0   \n",
      "4                     0                               0   \n",
      "\n",
      "   smoking_status_never smoked  smoking_status_smokes  \n",
      "0                            0                      0  \n",
      "1                            1                      0  \n",
      "2                            1                      0  \n",
      "3                            0                      1  \n",
      "4                            1                      0  \n"
     ]
    }
   ],
   "source": [
    "print(encoded_stroke_df.head())"
   ]
  },
  {
   "cell_type": "code",
   "execution_count": 30,
   "id": "c6d8583e",
   "metadata": {},
   "outputs": [
    {
     "name": "stdout",
     "output_type": "stream",
     "text": [
      "['hypertension', 'heart_disease', 'bmi', 'age', 'avg_glucose_level', 'gender_Male', 'gender_Other', 'ever_married_Yes', 'work_type_Never_worked', 'work_type_Private', 'work_type_Self-employed', 'work_type_children', 'Residence_type_Urban', 'smoking_status_formerly smoked', 'smoking_status_never smoked', 'smoking_status_smokes']\n"
     ]
    }
   ],
   "source": [
    "x_fields = encoded_stroke_df.columns.tolist()\n",
    "(x_fields.remove('stroke'))\n",
    "print(x_fields)"
   ]
  },
  {
   "cell_type": "code",
   "execution_count": 31,
   "id": "b6f1cc5a",
   "metadata": {},
   "outputs": [],
   "source": [
    "X = encoded_stroke_df[x_fields]"
   ]
  },
  {
   "cell_type": "code",
   "execution_count": 32,
   "id": "91832a2e",
   "metadata": {},
   "outputs": [],
   "source": [
    "Y = encoded_stroke_df['stroke']"
   ]
  },
  {
   "cell_type": "code",
   "execution_count": 33,
   "id": "86793d81",
   "metadata": {},
   "outputs": [
    {
     "name": "stdout",
     "output_type": "stream",
     "text": [
      "(3577, 16)\n",
      "(1533, 16)\n",
      "(3577,)\n",
      "(1533,)\n"
     ]
    }
   ],
   "source": [
    "X_train, X_test, y_train, y_test = train_test_split(X, Y, test_size=0.3, random_state=102)\n",
    "print(X_train.shape)\n",
    "print(X_test.shape)\n",
    "print(y_train.shape)\n",
    "print(y_test.shape)"
   ]
  },
  {
   "cell_type": "code",
   "execution_count": 34,
   "id": "82e053fb",
   "metadata": {},
   "outputs": [],
   "source": [
    "# Logistic regression model\n",
    "log_reg = LogisticRegression(solver='lbfgs', max_iter=1000, class_weight='balanced')\n",
    "\n",
    "log_reg.fit(X_train, y_train)\n",
    "y_pred = log_reg.predict(X_test)"
   ]
  },
  {
   "cell_type": "code",
   "execution_count": 35,
   "id": "c16f4cbb",
   "metadata": {},
   "outputs": [
    {
     "data": {
      "text/plain": [
       "0.7573385518590998"
      ]
     },
     "execution_count": 35,
     "metadata": {},
     "output_type": "execute_result"
    }
   ],
   "source": [
    "accuracy_score(y_pred, y_test)"
   ]
  },
  {
   "cell_type": "code",
   "execution_count": 36,
   "id": "f8bd10b3",
   "metadata": {},
   "outputs": [
    {
     "data": {
      "text/plain": [
       "array([[1096,   20],\n",
       "       [ 352,   65]], dtype=int64)"
      ]
     },
     "execution_count": 36,
     "metadata": {},
     "output_type": "execute_result"
    }
   ],
   "source": [
    "confusion_matrix(y_pred, y_test)"
   ]
  },
  {
   "cell_type": "code",
   "execution_count": 37,
   "id": "413247e9",
   "metadata": {},
   "outputs": [
    {
     "name": "stdout",
     "output_type": "stream",
     "text": [
      "              precision    recall  f1-score   support\n",
      "\n",
      "           0       0.98      0.76      0.85      1448\n",
      "           1       0.16      0.76      0.26        85\n",
      "\n",
      "    accuracy                           0.76      1533\n",
      "   macro avg       0.57      0.76      0.56      1533\n",
      "weighted avg       0.94      0.76      0.82      1533\n",
      "\n"
     ]
    }
   ],
   "source": [
    "print(classification_report(y_test, y_pred))"
   ]
  },
  {
   "cell_type": "code",
   "execution_count": 38,
   "id": "36bbd00e",
   "metadata": {},
   "outputs": [
    {
     "data": {
      "text/plain": [
       "0.7608059798505037"
      ]
     },
     "execution_count": 38,
     "metadata": {},
     "output_type": "execute_result"
    }
   ],
   "source": [
    "roc_auc_score(y_test, y_pred)"
   ]
  },
  {
   "cell_type": "code",
   "execution_count": 39,
   "id": "8ca6e2f8",
   "metadata": {},
   "outputs": [],
   "source": [
    "pickle.dump(log_reg, open('models/stroke_predict_lg.pkl', 'wb'))"
   ]
  },
  {
   "cell_type": "code",
   "execution_count": 40,
   "id": "2b858da3",
   "metadata": {},
   "outputs": [],
   "source": [
    "x1 = X_test[:1]"
   ]
  },
  {
   "cell_type": "code",
   "execution_count": 41,
   "id": "02fb6851",
   "metadata": {},
   "outputs": [
    {
     "name": "stdout",
     "output_type": "stream",
     "text": [
      "(1533,)\n"
     ]
    }
   ],
   "source": [
    "print(y_test.shape)"
   ]
  },
  {
   "cell_type": "code",
   "execution_count": 42,
   "id": "364c7ce9",
   "metadata": {},
   "outputs": [
    {
     "name": "stdout",
     "output_type": "stream",
     "text": [
      "417\n"
     ]
    }
   ],
   "source": [
    "print(y_pred.sum())"
   ]
  },
  {
   "cell_type": "code",
   "execution_count": 43,
   "id": "c4d1d45a",
   "metadata": {},
   "outputs": [
    {
     "name": "stdout",
     "output_type": "stream",
     "text": [
      "{'hypertension': {3219: 0}, 'heart_disease': {3219: 0}, 'bmi': {3219: 30.3}, 'age': {3219: 73.0}, 'avg_glucose_level': {3219: 65.93}, 'gender_Male': {3219: 0}, 'gender_Other': {3219: 0}, 'ever_married_Yes': {3219: 1}, 'work_type_Never_worked': {3219: 0}, 'work_type_Private': {3219: 0}, 'work_type_Self-employed': {3219: 0}, 'work_type_children': {3219: 0}, 'Residence_type_Urban': {3219: 0}, 'smoking_status_formerly smoked': {3219: 0}, 'smoking_status_never smoked': {3219: 1}, 'smoking_status_smokes': {3219: 0}}\n"
     ]
    }
   ],
   "source": [
    "print(x1.to_dict())"
   ]
  },
  {
   "cell_type": "code",
   "execution_count": 44,
   "id": "3276044e",
   "metadata": {},
   "outputs": [
    {
     "name": "stdout",
     "output_type": "stream",
     "text": [
      "(1, 16)\n"
     ]
    }
   ],
   "source": [
    "print(x1.shape)"
   ]
  },
  {
   "cell_type": "code",
   "execution_count": 46,
   "id": "8b479a6b",
   "metadata": {},
   "outputs": [],
   "source": [
    "# 2nd model approach: Decision Tree Classifier\n",
    "clf = DecisionTreeClassifier(class_weight='balanced').fit(X_train, y_train)"
   ]
  },
  {
   "cell_type": "code",
   "execution_count": 47,
   "id": "caed0c42",
   "metadata": {},
   "outputs": [],
   "source": [
    "y_hat = clf.predict(X_test)"
   ]
  },
  {
   "cell_type": "code",
   "execution_count": 48,
   "id": "b7f1a028",
   "metadata": {},
   "outputs": [
    {
     "name": "stdout",
     "output_type": "stream",
     "text": [
      "65\n"
     ]
    }
   ],
   "source": [
    "print(y_hat.sum())"
   ]
  },
  {
   "cell_type": "code",
   "execution_count": 49,
   "id": "ccf472cb",
   "metadata": {},
   "outputs": [
    {
     "data": {
      "text/plain": [
       "0.9178082191780822"
      ]
     },
     "execution_count": 49,
     "metadata": {},
     "output_type": "execute_result"
    }
   ],
   "source": [
    "accuracy_score(y_hat, y_test)"
   ]
  },
  {
   "cell_type": "code",
   "execution_count": 50,
   "id": "a7457e61",
   "metadata": {},
   "outputs": [
    {
     "name": "stdout",
     "output_type": "stream",
     "text": [
      "              precision    recall  f1-score   support\n",
      "\n",
      "           0       0.95      0.96      0.96      1448\n",
      "           1       0.18      0.14      0.16        85\n",
      "\n",
      "    accuracy                           0.92      1533\n",
      "   macro avg       0.57      0.55      0.56      1533\n",
      "weighted avg       0.91      0.92      0.91      1533\n",
      "\n"
     ]
    }
   ],
   "source": [
    "print(classification_report(y_test, y_hat))"
   ]
  },
  {
   "cell_type": "code",
   "execution_count": 51,
   "id": "47bb02e4",
   "metadata": {},
   "outputs": [
    {
     "data": {
      "text/plain": [
       "0.5522871303217419"
      ]
     },
     "execution_count": 51,
     "metadata": {},
     "output_type": "execute_result"
    }
   ],
   "source": [
    "roc_auc_score(y_test, y_hat)"
   ]
  },
  {
   "cell_type": "code",
   "execution_count": 52,
   "id": "a4d9ade5",
   "metadata": {},
   "outputs": [],
   "source": [
    "pickle.dump(clf, open('models/stroke_predict_dtc.pkl', 'wb'))"
   ]
  },
  {
   "cell_type": "code",
   "execution_count": 53,
   "id": "2d4cdb6f",
   "metadata": {},
   "outputs": [],
   "source": [
    "# model = pickle.load(open('models/stroke_predict.pickle', 'rb'))"
   ]
  },
  {
   "cell_type": "code",
   "execution_count": 54,
   "id": "1f9e1a78",
   "metadata": {},
   "outputs": [],
   "source": [
    "# 3rd model approach RandomForestClassifier\n",
    "from sklearn.ensemble import RandomForestClassifier"
   ]
  },
  {
   "cell_type": "code",
   "execution_count": 55,
   "id": "3ca5fa4c",
   "metadata": {},
   "outputs": [],
   "source": [
    "rfc = RandomForestClassifier(random_state=202)"
   ]
  },
  {
   "cell_type": "code",
   "execution_count": 56,
   "id": "eb2d01ce",
   "metadata": {},
   "outputs": [
    {
     "data": {
      "text/html": [
       "<style>#sk-container-id-1 {color: black;background-color: white;}#sk-container-id-1 pre{padding: 0;}#sk-container-id-1 div.sk-toggleable {background-color: white;}#sk-container-id-1 label.sk-toggleable__label {cursor: pointer;display: block;width: 100%;margin-bottom: 0;padding: 0.3em;box-sizing: border-box;text-align: center;}#sk-container-id-1 label.sk-toggleable__label-arrow:before {content: \"▸\";float: left;margin-right: 0.25em;color: #696969;}#sk-container-id-1 label.sk-toggleable__label-arrow:hover:before {color: black;}#sk-container-id-1 div.sk-estimator:hover label.sk-toggleable__label-arrow:before {color: black;}#sk-container-id-1 div.sk-toggleable__content {max-height: 0;max-width: 0;overflow: hidden;text-align: left;background-color: #f0f8ff;}#sk-container-id-1 div.sk-toggleable__content pre {margin: 0.2em;color: black;border-radius: 0.25em;background-color: #f0f8ff;}#sk-container-id-1 input.sk-toggleable__control:checked~div.sk-toggleable__content {max-height: 200px;max-width: 100%;overflow: auto;}#sk-container-id-1 input.sk-toggleable__control:checked~label.sk-toggleable__label-arrow:before {content: \"▾\";}#sk-container-id-1 div.sk-estimator input.sk-toggleable__control:checked~label.sk-toggleable__label {background-color: #d4ebff;}#sk-container-id-1 div.sk-label input.sk-toggleable__control:checked~label.sk-toggleable__label {background-color: #d4ebff;}#sk-container-id-1 input.sk-hidden--visually {border: 0;clip: rect(1px 1px 1px 1px);clip: rect(1px, 1px, 1px, 1px);height: 1px;margin: -1px;overflow: hidden;padding: 0;position: absolute;width: 1px;}#sk-container-id-1 div.sk-estimator {font-family: monospace;background-color: #f0f8ff;border: 1px dotted black;border-radius: 0.25em;box-sizing: border-box;margin-bottom: 0.5em;}#sk-container-id-1 div.sk-estimator:hover {background-color: #d4ebff;}#sk-container-id-1 div.sk-parallel-item::after {content: \"\";width: 100%;border-bottom: 1px solid gray;flex-grow: 1;}#sk-container-id-1 div.sk-label:hover label.sk-toggleable__label {background-color: #d4ebff;}#sk-container-id-1 div.sk-serial::before {content: \"\";position: absolute;border-left: 1px solid gray;box-sizing: border-box;top: 0;bottom: 0;left: 50%;z-index: 0;}#sk-container-id-1 div.sk-serial {display: flex;flex-direction: column;align-items: center;background-color: white;padding-right: 0.2em;padding-left: 0.2em;position: relative;}#sk-container-id-1 div.sk-item {position: relative;z-index: 1;}#sk-container-id-1 div.sk-parallel {display: flex;align-items: stretch;justify-content: center;background-color: white;position: relative;}#sk-container-id-1 div.sk-item::before, #sk-container-id-1 div.sk-parallel-item::before {content: \"\";position: absolute;border-left: 1px solid gray;box-sizing: border-box;top: 0;bottom: 0;left: 50%;z-index: -1;}#sk-container-id-1 div.sk-parallel-item {display: flex;flex-direction: column;z-index: 1;position: relative;background-color: white;}#sk-container-id-1 div.sk-parallel-item:first-child::after {align-self: flex-end;width: 50%;}#sk-container-id-1 div.sk-parallel-item:last-child::after {align-self: flex-start;width: 50%;}#sk-container-id-1 div.sk-parallel-item:only-child::after {width: 0;}#sk-container-id-1 div.sk-dashed-wrapped {border: 1px dashed gray;margin: 0 0.4em 0.5em 0.4em;box-sizing: border-box;padding-bottom: 0.4em;background-color: white;}#sk-container-id-1 div.sk-label label {font-family: monospace;font-weight: bold;display: inline-block;line-height: 1.2em;}#sk-container-id-1 div.sk-label-container {text-align: center;}#sk-container-id-1 div.sk-container {/* jupyter's `normalize.less` sets `[hidden] { display: none; }` but bootstrap.min.css set `[hidden] { display: none !important; }` so we also need the `!important` here to be able to override the default hidden behavior on the sphinx rendered scikit-learn.org. See: https://github.com/scikit-learn/scikit-learn/issues/21755 */display: inline-block !important;position: relative;}#sk-container-id-1 div.sk-text-repr-fallback {display: none;}</style><div id=\"sk-container-id-1\" class=\"sk-top-container\"><div class=\"sk-text-repr-fallback\"><pre>RandomForestClassifier(random_state=202)</pre><b>In a Jupyter environment, please rerun this cell to show the HTML representation or trust the notebook. <br />On GitHub, the HTML representation is unable to render, please try loading this page with nbviewer.org.</b></div><div class=\"sk-container\" hidden><div class=\"sk-item\"><div class=\"sk-estimator sk-toggleable\"><input class=\"sk-toggleable__control sk-hidden--visually\" id=\"sk-estimator-id-1\" type=\"checkbox\" checked><label for=\"sk-estimator-id-1\" class=\"sk-toggleable__label sk-toggleable__label-arrow\">RandomForestClassifier</label><div class=\"sk-toggleable__content\"><pre>RandomForestClassifier(random_state=202)</pre></div></div></div></div></div>"
      ],
      "text/plain": [
       "RandomForestClassifier(random_state=202)"
      ]
     },
     "execution_count": 56,
     "metadata": {},
     "output_type": "execute_result"
    }
   ],
   "source": [
    "rfc.fit(X, Y)"
   ]
  },
  {
   "cell_type": "code",
   "execution_count": 57,
   "id": "ae79c55a",
   "metadata": {},
   "outputs": [],
   "source": [
    "y_hat_rfc = rfc.predict(X_test)"
   ]
  },
  {
   "cell_type": "code",
   "execution_count": 58,
   "id": "5fccefd8",
   "metadata": {},
   "outputs": [
    {
     "data": {
      "text/plain": [
       "1.0"
      ]
     },
     "execution_count": 58,
     "metadata": {},
     "output_type": "execute_result"
    }
   ],
   "source": [
    "accuracy_score(y_test, y_hat_rfc)"
   ]
  },
  {
   "cell_type": "code",
   "execution_count": 59,
   "id": "25c50c33",
   "metadata": {},
   "outputs": [
    {
     "data": {
      "text/plain": [
       "1.0"
      ]
     },
     "execution_count": 59,
     "metadata": {},
     "output_type": "execute_result"
    }
   ],
   "source": [
    "roc_auc_score(y_hat_rfc, y_test)"
   ]
  },
  {
   "cell_type": "code",
   "execution_count": 60,
   "id": "4bc9da37",
   "metadata": {},
   "outputs": [
    {
     "name": "stdout",
     "output_type": "stream",
     "text": [
      "              precision    recall  f1-score   support\n",
      "\n",
      "           0       1.00      1.00      1.00      1448\n",
      "           1       1.00      1.00      1.00        85\n",
      "\n",
      "    accuracy                           1.00      1533\n",
      "   macro avg       1.00      1.00      1.00      1533\n",
      "weighted avg       1.00      1.00      1.00      1533\n",
      "\n"
     ]
    }
   ],
   "source": [
    "print(classification_report(y_test, y_hat_rfc))"
   ]
  },
  {
   "cell_type": "code",
   "execution_count": 61,
   "id": "69f01d9f",
   "metadata": {},
   "outputs": [],
   "source": [
    "pickle.dump(rfc, open('models/stroke_predict_rfc.pkl', 'wb'))"
   ]
  },
  {
   "cell_type": "code",
   "execution_count": 62,
   "id": "50dda9ae",
   "metadata": {},
   "outputs": [
    {
     "data": {
      "text/plain": [
       "85"
      ]
     },
     "execution_count": 62,
     "metadata": {},
     "output_type": "execute_result"
    }
   ],
   "source": [
    "y_hat_rfc.sum()"
   ]
  },
  {
   "cell_type": "code",
   "execution_count": 63,
   "id": "053181ff",
   "metadata": {},
   "outputs": [
    {
     "data": {
      "text/plain": [
       "1533"
      ]
     },
     "execution_count": 63,
     "metadata": {},
     "output_type": "execute_result"
    }
   ],
   "source": [
    "y_hat_rfc.size"
   ]
  },
  {
   "cell_type": "code",
   "execution_count": 93,
   "id": "30dcd55f",
   "metadata": {},
   "outputs": [],
   "source": [
    "# import bentoml"
   ]
  },
  {
   "cell_type": "code",
   "execution_count": 64,
   "id": "f80c53e6",
   "metadata": {},
   "outputs": [],
   "source": [
    "# bentoml.sklearn.save_model('stroke_predict_model', rfc)"
   ]
  },
  {
   "cell_type": "code",
   "execution_count": null,
   "id": "bf2a9949",
   "metadata": {},
   "outputs": [],
   "source": []
  }
 ],
 "metadata": {
  "kernelspec": {
   "display_name": "Python 3",
   "language": "python",
   "name": "python3"
  },
  "language_info": {
   "codemirror_mode": {
    "name": "ipython",
    "version": 3
   },
   "file_extension": ".py",
   "mimetype": "text/x-python",
   "name": "python",
   "nbconvert_exporter": "python",
   "pygments_lexer": "ipython3",
   "version": "3.9.12"
  }
 },
 "nbformat": 4,
 "nbformat_minor": 5
}
